{
 "cells": [
  {
   "cell_type": "markdown",
   "metadata": {},
   "source": [
    "# 作業\n",
    "\n",
    "實作本篇提到的三大概念\n",
    "\n",
    "- 翻轉：實作上下左右的翻轉\n",
    "- 縮放：比較鄰近差值與雙立方插值 (或雙線性插值) 的圖片品質\n",
    "- 平移：建立 Translation Transformation Matrix 來做平移"
   ]
  },
  {
   "cell_type": "markdown",
   "metadata": {},
   "source": [
    "## 上下左右翻轉圖片"
   ]
  },
  {
   "cell_type": "code",
   "execution_count": 47,
   "metadata": {},
   "outputs": [],
   "source": [
    "import cv2\n",
    "import time\n",
    "import numpy as np\n",
    "\n",
    "img_path = 'D:\\deep_learning\\\\1st-DL-CVMarathon\\data\\lena.png'\n",
    "img=cv2.imread(img_path,cv2.IMREAD_COLOR)\n",
    "img_v=img[::-1,:,:]\n",
    "img_h=img[:,::-1,:]\n",
    "img_hv=img[::-1,::-1,:]\n",
    "h=np.hstack((img,img_h))\n",
    "v=np.hstack((img_v,img_hv))\n",
    "total=np.vstack((h,v))\n",
    "cv2.imshow('check',total)\n",
    "cv2.waitKey(0)\n",
    "cv2.destroyAllWindows()"
   ]
  },
  {
   "cell_type": "code",
   "metadata": {},
   "source": [
    "## 縮放圖片\n",
    "\n",
    "### 放大\n",
    "\n",
    "我們先透過縮小圖片去壓縮原有圖片保有的資訊，再放大比較不同方法之間的速度與圖片品質"
   ]
  },
  {
   "cell_type": "code",
   "execution_count": 35,
   "metadata": {},
   "outputs": [
    {
     "name": "stdout",
     "output_type": "stream",
     "text": "INTER_NEAREST zoom cost = 0.0010001659393310547 \nINTER_bilinear zoom cost = 0.0012698173522949219\nbilinear method is faster than nearest method\n"
    }
   ],
   "source": [
    "fx, fy = 0.1,0.1\n",
    "img_size_bil=cv2.resize(img,None,fx=fx,fy=fy)\n",
    "\n",
    "fx , fy = 2.5,2.5\n",
    "start_near=time.time()\n",
    "img_near=cv2.resize(img_size,None,fx=fx,fy=fy,interpolation=cv2.INTER_NEAREST)\n",
    "end_near=time.time()\n",
    "\n",
    "start_bil=time.time()\n",
    "img_bil=cv2.resize(img_size,None,fx=fx,fy=fy)\n",
    "end_bil=time.time()\n",
    "print('INTER_NEAREST zoom cost = {}'.format(end_near - start_near),'\\n'\\\n",
    "'INTER_bilinear zoom cost = {}'.format(end_bil - start_bil)\n",
    ")\n",
    "if (end_bil - start_bil) > (end_bil - start_bil):\n",
    "    print('bilinear method is slower than nearest method')\n",
    "else:\n",
    "    print('bilinear method is faster than nearest method')\n",
    "check=np.hstack((img_near,img_bil))\n",
    "cv2.imshow('check',check)\n",
    "cv2.waitKey(0)\n",
    "cv2.destroyAllWindows()\n"
   ]
  },
  {
   "cell_type": "markdown",
   "metadata": {},
   "source": [
    "## 平移幾何轉換"
   ]
  },
  {
   "cell_type": "code",
   "execution_count": 46,
   "metadata": {},
   "outputs": [],
   "source": [
    "M = np.array([[1,0,100],[0,1,50]],dtype=np.float32)\n",
    "shift_img = cv2.warpAffine(img, M, (img.shape[1], img.shape[0]))\n",
    "bind=np.hstack((img,shift_img))\n",
    "cv2.imshow('check',bind)\n",
    "cv2.waitKey(0)\n",
    "cv2.destroyAllWindows()"
   ]
  },
  {
   "cell_type": "code",
   "execution_count": null,
   "metadata": {},
   "outputs": [],
   "source": []
  }
 ],
 "metadata": {
  "kernelspec": {
   "display_name": "Python 3",
   "language": "python",
   "name": "python3"
  },
  "language_info": {
   "codemirror_mode": {
    "name": "ipython",
    "version": 3
   },
   "file_extension": ".py",
   "mimetype": "text/x-python",
   "name": "python",
   "nbconvert_exporter": "python",
   "pygments_lexer": "ipython3",
   "version": "3.7.4"
  }
 },
 "nbformat": 4,
 "nbformat_minor": 2
}