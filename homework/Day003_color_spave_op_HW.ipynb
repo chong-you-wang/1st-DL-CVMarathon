{
 "cells": [
  {
   "cell_type": "markdown",
   "metadata": {},
   "source": [
    "# 作業\n",
    "\n",
    "實作各種不一樣的方式來調整飽和 / 對比 / 明亮\n",
    "\n",
    "1. 改變 color space 來調整飽和度\n",
    "2. 實作直方圖均衡\n",
    "3. alpha/ beta 調整對比 / 明亮"
   ]
  },
  {
   "cell_type": "code",
   "execution_count": 1,
   "metadata": {},
   "outputs": [],
   "source": [
    "import cv2\n",
    "import numpy as np\n",
    "\n",
    "img_path = 'D:\\deep_learning\\\\1st-DL-CVMarathon\\data\\lena.png'\n",
    "\n",
    "img = cv2.imread(img_path, cv2.IMREAD_COLOR)\n",
    "img_hsv =cv2.cvtColor(img,cv2.COLOR_BGR2HSV)\n",
    "img_hsv=img_hsv.astype('float32')\n",
    "scale=0.3\n",
    "\n",
    "img_hsv[...,1] = img_hsv[...,1]/255 + scale\n",
    "img_hsv[img_hsv[...,1] >1 ]= 1\n",
    "img_hsv[...,1] = img_hsv[...,1]*255\n",
    "img_hsv = img_hsv.astype('uint8')\n",
    "img_bgr = cv2.cvtColor(img_hsv,cv2.COLOR_HSV2BGR)\n",
    "\n",
    "distinct=np.hstack((img, img_hsv, img_bgr))\n",
    "cv2.imshow('result',distinct)\n",
    "cv2.waitKey(0)\n",
    "cv2.destroyAllWindows()"
   ]
  },
  {
   "cell_type": "markdown",
   "metadata": {},
   "source": [
    "## 直方圖均衡\n",
    "\n",
    "1. case 1: 把彩圖拆開對每個 channel 個別做直方圖均衡再組合起來\n",
    "2. case 2: 轉換 color space 到 HSV 之後對其中一個 channel 做直方圖均衡"
   ]
  },
  {
   "cell_type": "code",
   "execution_count": 2,
   "metadata": {},
   "outputs": [],
   "source": [
    "img_equ=img.copy()\n",
    "for i in range(2):\n",
    "    img_equ[...,i]=cv2.equalizeHist(img_equ[...,i])\n",
    "\n",
    "img_hsv =cv2.cvtColor(img,cv2.COLOR_BGR2HSV)\n",
    "img_hsv[...,0]=cv2.equalizeHist(img_hsv[...,0])\n",
    "check=np.hstack((img,img_equ,img_hsv))\n",
    "cv2.imshow('letf : ori,  middle: equ  right: hsv',check)\n",
    "cv2.waitKey(0)\n",
    "cv2.destroyAllWindows()\n",
    "\n",
    "\n"
   ]
  },
  {
   "cell_type": "markdown",
   "metadata": {},
   "source": [
    "## 調整對比 / 明亮"
   ]
  },
  {
   "cell_type": "code",
   "execution_count": 3,
   "metadata": {},
   "outputs": [],
   "source": [
    "# alpha: 控制對比度 (1.0~3.0)\n",
    "# beta: 控制明亮度 (0~255)\n",
    "contrast = 2\n",
    "lightness= 50\n",
    "img_contrast=cv2.convertScaleAbs(img,alpha=contrast,beta=0)\n",
    "img_lightness=cv2.convertScaleAbs(img,alpha=1,beta=lightness)\n",
    "# 組合圖片 + 顯示圖片\n",
    "img_contrast_light = np.hstack((img, img_contrast, img_lightness))\n",
    "cv2.imshow('letf : ori,  middle: contrast  right: lightness',img_contrast_light)\n",
    "cv2.waitKey(0)\n",
    "cv2.destroyAllWindows()"
   ]
  }
 ],
 "metadata": {
  "kernelspec": {
   "display_name": "Python 3",
   "language": "python",
   "name": "python3"
  },
  "language_info": {
   "codemirror_mode": {
    "name": "ipython",
    "version": 3
   },
   "file_extension": ".py",
   "mimetype": "text/x-python",
   "name": "python",
   "nbconvert_exporter": "python",
   "pygments_lexer": "ipython3",
   "version": "3.7.4"
  }
 },
 "nbformat": 4,
 "nbformat_minor": 2
}